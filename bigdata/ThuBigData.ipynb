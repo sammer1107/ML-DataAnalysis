{
 "cells": [
  {
   "cell_type": "code",
   "execution_count": 1,
   "metadata": {},
   "outputs": [
    {
     "name": "stderr",
     "output_type": "stream",
     "text": [
      "/usr/lib/python3.5/importlib/_bootstrap.py:222: RuntimeWarning: numpy.dtype size changed, may indicate binary incompatibility. Expected 96, got 88\n",
      "  return f(*args, **kwds)\n",
      "/usr/lib/python3.5/importlib/_bootstrap.py:222: RuntimeWarning: numpy.dtype size changed, may indicate binary incompatibility. Expected 96, got 88\n",
      "  return f(*args, **kwds)\n"
     ]
    }
   ],
   "source": [
    "import pandas as pd\n",
    "import numpy as np\n",
    "import matplotlib.pyplot as plt\n",
    "import os\n",
    "%matplotlib inline"
   ]
  },
  {
   "cell_type": "code",
   "execution_count": 7,
   "metadata": {},
   "outputs": [],
   "source": [
    "attrs = []\n",
    "target = []\n",
    "for xls in os.listdir('sample_data/'):\n",
    "    data = pd.read_excel('sample_data/'+xls, header=None)\n",
    "\n",
    "    output = data.iloc[-1,0]\n",
    "    output = np.float32(output.split(':')[-1])\n",
    "    data = data.iloc[0:-1]\n",
    "    attrs.append(np.array(data))\n",
    "    target.append(np.float32(output))\n",
    "\n",
    "attrs = np.array(attrs)\n",
    "target = np.array(target)"
   ]
  },
  {
   "cell_type": "code",
   "execution_count": 11,
   "metadata": {},
   "outputs": [
    {
     "name": "stdout",
     "output_type": "stream",
     "text": [
      "\n",
      "\n",
      "\n",
      "\n"
     ]
    },
    {
     "data": {
      "image/png": "[encoded data removed]",
      "text/plain": [
       "<Figure size 1080x432 with 4 Axes>"
      ]
     },
     "metadata": {},
     "output_type": "display_data"
    }
   ],
   "source": [
    "plt.figure(figsize=(15, 6))\n",
    "for i in range(4):\n",
    "    plt.subplot(2,2,i+1)\n",
    "    x = np.mean(attrs[:,:,i], axis=1)\n",
    "    plt.scatter(x, target)\n",
    "    print()\n",
    "    plt.axis([ min(x), max(x), 0, 1])\n",
    "plt.tight_layout()"
   ]
  },
  {
   "cell_type": "code",
   "execution_count": 12,
   "metadata": {},
   "outputs": [
    {
     "name": "stdout",
     "output_type": "stream",
     "text": [
      "min =  1.3171675787247089e-09\n",
      "max =  0.000854607292409486\n"
     ]
    }
   ],
   "source": [
    "min = np.min(attrs, axis=None)\n",
    "max = np.max(attrs, axis=None)\n",
    "\n",
    "print('min = ', min)\n",
    "print('max = ', max)"
   ]
  },
  {
   "cell_type": "code",
   "execution_count": 10,
   "metadata": {},
   "outputs": [],
   "source": [
    "scaled_attrs = (attrs-min)/(max-min) + 0.01"
   ]
  },
  {
   "cell_type": "code",
   "execution_count": 22,
   "metadata": {},
   "outputs": [],
   "source": [
    "for xls in os.listdir('sample_data/'):\n",
    "    data = pd.read_excel('sample_data/'+xls, header=None)\n",
    "\n",
    "    output = data.iloc[-1,0]\n",
    "    output = np.float32(output.split(':')[-1])\n",
    "    data.iloc[-1,0] = 0\n",
    "    data = (data-min)/(max-min) + 0.01\n",
    "    data.iloc[-1,0] = output\n",
    "    file_name = xls.split('.')[0]+'.csv'\n",
    "    data.to_csv('preprocessed_data/' + file_name)"
   ]
  }
 ],
 "metadata": {
  "kernelspec": {
   "display_name": "Python 3",
   "language": "python",
   "name": "python3"
  },
  "language_info": {
   "codemirror_mode": {
    "name": "ipython",
    "version": 3
   },
   "file_extension": ".py",
   "mimetype": "text/x-python",
   "name": "python",
   "nbconvert_exporter": "python",
   "pygments_lexer": "ipython3",
   "version": "3.5.2"
  }
 },
 "nbformat": 4,
 "nbformat_minor": 2
}
